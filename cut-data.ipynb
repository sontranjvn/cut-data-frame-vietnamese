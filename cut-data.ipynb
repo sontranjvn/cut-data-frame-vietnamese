{
 "cells": [
  {
   "cell_type": "code",
   "execution_count": 3,
   "metadata": {},
   "outputs": [],
   "source": [
    "import pandas as pd\n",
    "import math\n",
    "import numpy as np \n",
    "import os"
   ]
  },
  {
   "cell_type": "code",
   "execution_count": 28,
   "metadata": {
    "scrolled": true
   },
   "outputs": [
    {
     "data": {
      "text/html": [
       "<div>\n",
       "<style scoped>\n",
       "    .dataframe tbody tr th:only-of-type {\n",
       "        vertical-align: middle;\n",
       "    }\n",
       "\n",
       "    .dataframe tbody tr th {\n",
       "        vertical-align: top;\n",
       "    }\n",
       "\n",
       "    .dataframe thead th {\n",
       "        text-align: right;\n",
       "    }\n",
       "</style>\n",
       "<table border=\"1\" class=\"dataframe\">\n",
       "  <thead>\n",
       "    <tr style=\"text-align: right;\">\n",
       "      <th></th>\n",
       "      <th>ID_NO</th>\n",
       "      <th>CLIENT_NAME</th>\n",
       "    </tr>\n",
       "  </thead>\n",
       "  <tbody>\n",
       "    <tr>\n",
       "      <th>0</th>\n",
       "      <td>B280643401</td>\n",
       "      <td>NGUYỄN THỊ PHƯỢNG</td>\n",
       "    </tr>\n",
       "    <tr>\n",
       "      <th>1</th>\n",
       "      <td>B290718370</td>\n",
       "      <td>NGUYỄN HẢI ĐĂNG</td>\n",
       "    </tr>\n",
       "    <tr>\n",
       "      <th>2</th>\n",
       "      <td>B381492146</td>\n",
       "      <td>TÔ HOÀI ÂN</td>\n",
       "    </tr>\n",
       "    <tr>\n",
       "      <th>3</th>\n",
       "      <td>B168284679</td>\n",
       "      <td>TRẦN VĂN QUYỀN</td>\n",
       "    </tr>\n",
       "    <tr>\n",
       "      <th>4</th>\n",
       "      <td>B301373848</td>\n",
       "      <td>NGUYỄN THỊ THANH THÚY</td>\n",
       "    </tr>\n",
       "  </tbody>\n",
       "</table>\n",
       "</div>"
      ],
      "text/plain": [
       "        ID_NO            CLIENT_NAME\n",
       "0  B280643401      NGUYỄN THỊ PHƯỢNG\n",
       "1  B290718370        NGUYỄN HẢI ĐĂNG\n",
       "2  B381492146             TÔ HOÀI ÂN\n",
       "3  B168284679         TRẦN VĂN QUYỀN\n",
       "4  B301373848  NGUYỄN THỊ THANH THÚY"
      ]
     },
     "execution_count": 28,
     "metadata": {},
     "output_type": "execute_result"
    }
   ],
   "source": [
    "os.chdir(\"D:/Kalapa\")\n",
    "data = pd.read_csv(\"Kalapa_2019.csv\", encoding = 'utf-8')\n",
    "data.head()"
   ]
  },
  {
   "cell_type": "code",
   "execution_count": 29,
   "metadata": {},
   "outputs": [],
   "source": [
    "data['National_ID'] = data['ID_NO'].astype(str).str[1:]"
   ]
  },
  {
   "cell_type": "code",
   "execution_count": 30,
   "metadata": {
    "scrolled": true
   },
   "outputs": [
    {
     "data": {
      "text/html": [
       "<div>\n",
       "<style scoped>\n",
       "    .dataframe tbody tr th:only-of-type {\n",
       "        vertical-align: middle;\n",
       "    }\n",
       "\n",
       "    .dataframe tbody tr th {\n",
       "        vertical-align: top;\n",
       "    }\n",
       "\n",
       "    .dataframe thead th {\n",
       "        text-align: right;\n",
       "    }\n",
       "</style>\n",
       "<table border=\"1\" class=\"dataframe\">\n",
       "  <thead>\n",
       "    <tr style=\"text-align: right;\">\n",
       "      <th></th>\n",
       "      <th>CLIENT_NAME</th>\n",
       "      <th>National_ID</th>\n",
       "    </tr>\n",
       "  </thead>\n",
       "  <tbody>\n",
       "    <tr>\n",
       "      <th>0</th>\n",
       "      <td>NGUYỄN THỊ PHƯỢNG</td>\n",
       "      <td>280643401</td>\n",
       "    </tr>\n",
       "    <tr>\n",
       "      <th>1</th>\n",
       "      <td>NGUYỄN HẢI ĐĂNG</td>\n",
       "      <td>290718370</td>\n",
       "    </tr>\n",
       "    <tr>\n",
       "      <th>2</th>\n",
       "      <td>TÔ HOÀI ÂN</td>\n",
       "      <td>381492146</td>\n",
       "    </tr>\n",
       "    <tr>\n",
       "      <th>3</th>\n",
       "      <td>TRẦN VĂN QUYỀN</td>\n",
       "      <td>168284679</td>\n",
       "    </tr>\n",
       "    <tr>\n",
       "      <th>4</th>\n",
       "      <td>NGUYỄN THỊ THANH THÚY</td>\n",
       "      <td>301373848</td>\n",
       "    </tr>\n",
       "  </tbody>\n",
       "</table>\n",
       "</div>"
      ],
      "text/plain": [
       "             CLIENT_NAME National_ID\n",
       "0      NGUYỄN THỊ PHƯỢNG   280643401\n",
       "1        NGUYỄN HẢI ĐĂNG   290718370\n",
       "2             TÔ HOÀI ÂN   381492146\n",
       "3         TRẦN VĂN QUYỀN   168284679\n",
       "4  NGUYỄN THỊ THANH THÚY   301373848"
      ]
     },
     "execution_count": 30,
     "metadata": {},
     "output_type": "execute_result"
    }
   ],
   "source": [
    "del data['ID_NO']\n",
    "data.head()\n"
   ]
  },
  {
   "cell_type": "code",
   "execution_count": 6,
   "metadata": {},
   "outputs": [
    {
     "name": "stdout",
     "output_type": "stream",
     "text": [
      "Marks: [20000, 40000, 60000, 80000, 100000, 120000, 140000, 160000, 180000, 200000, 220000, 240000, 260000, 280000, 300000, 320000, 340000, 360000, 380000, 400000, 420000, 440000, 460000, 480000, 500000, 520000, 540000, 560000, 580000, 600000, 620000, 640000, 660000, 680000, 700000, 720000, 740000, 760000, 780000, 800000, 820000, 840000, 860000, 880000, 900000, 920000, 940000, 960000, 980000, 1000000, 1020000, 1040000, 1060000, 1080000, 1100000, 1120000, 1140000, 1160000, 1180000, 1200000, 1220000, 1240000]\n"
     ]
    }
   ],
   "source": [
    "def index_marks(nrows, chunk_size):\n",
    "    return range(chunk_size, math.ceil(nrows / chunk_size) * chunk_size, chunk_size)\n",
    "\n",
    "indices = list(index_marks(data.shape[0], 20000))\n",
    "print(\"Marks: {}\".format(indices))"
   ]
  },
  {
   "cell_type": "code",
   "execution_count": 7,
   "metadata": {},
   "outputs": [
    {
     "name": "stdout",
     "output_type": "stream",
     "text": [
      "Shape: (20000, 2); RangeIndex(start=0, stop=20000, step=1)\n",
      "Shape: (20000, 2); RangeIndex(start=20000, stop=40000, step=1)\n",
      "Shape: (20000, 2); RangeIndex(start=40000, stop=60000, step=1)\n",
      "Shape: (20000, 2); RangeIndex(start=60000, stop=80000, step=1)\n",
      "Shape: (20000, 2); RangeIndex(start=80000, stop=100000, step=1)\n",
      "Shape: (20000, 2); RangeIndex(start=100000, stop=120000, step=1)\n",
      "Shape: (20000, 2); RangeIndex(start=120000, stop=140000, step=1)\n",
      "Shape: (20000, 2); RangeIndex(start=140000, stop=160000, step=1)\n",
      "Shape: (20000, 2); RangeIndex(start=160000, stop=180000, step=1)\n",
      "Shape: (20000, 2); RangeIndex(start=180000, stop=200000, step=1)\n",
      "Shape: (20000, 2); RangeIndex(start=200000, stop=220000, step=1)\n",
      "Shape: (20000, 2); RangeIndex(start=220000, stop=240000, step=1)\n",
      "Shape: (20000, 2); RangeIndex(start=240000, stop=260000, step=1)\n",
      "Shape: (20000, 2); RangeIndex(start=260000, stop=280000, step=1)\n",
      "Shape: (20000, 2); RangeIndex(start=280000, stop=300000, step=1)\n",
      "Shape: (20000, 2); RangeIndex(start=300000, stop=320000, step=1)\n",
      "Shape: (20000, 2); RangeIndex(start=320000, stop=340000, step=1)\n",
      "Shape: (20000, 2); RangeIndex(start=340000, stop=360000, step=1)\n",
      "Shape: (20000, 2); RangeIndex(start=360000, stop=380000, step=1)\n",
      "Shape: (20000, 2); RangeIndex(start=380000, stop=400000, step=1)\n",
      "Shape: (20000, 2); RangeIndex(start=400000, stop=420000, step=1)\n",
      "Shape: (20000, 2); RangeIndex(start=420000, stop=440000, step=1)\n",
      "Shape: (20000, 2); RangeIndex(start=440000, stop=460000, step=1)\n",
      "Shape: (20000, 2); RangeIndex(start=460000, stop=480000, step=1)\n",
      "Shape: (20000, 2); RangeIndex(start=480000, stop=500000, step=1)\n",
      "Shape: (20000, 2); RangeIndex(start=500000, stop=520000, step=1)\n",
      "Shape: (20000, 2); RangeIndex(start=520000, stop=540000, step=1)\n",
      "Shape: (20000, 2); RangeIndex(start=540000, stop=560000, step=1)\n",
      "Shape: (20000, 2); RangeIndex(start=560000, stop=580000, step=1)\n",
      "Shape: (20000, 2); RangeIndex(start=580000, stop=600000, step=1)\n",
      "Shape: (20000, 2); RangeIndex(start=600000, stop=620000, step=1)\n",
      "Shape: (20000, 2); RangeIndex(start=620000, stop=640000, step=1)\n",
      "Shape: (20000, 2); RangeIndex(start=640000, stop=660000, step=1)\n",
      "Shape: (20000, 2); RangeIndex(start=660000, stop=680000, step=1)\n",
      "Shape: (20000, 2); RangeIndex(start=680000, stop=700000, step=1)\n",
      "Shape: (20000, 2); RangeIndex(start=700000, stop=720000, step=1)\n",
      "Shape: (20000, 2); RangeIndex(start=720000, stop=740000, step=1)\n",
      "Shape: (20000, 2); RangeIndex(start=740000, stop=760000, step=1)\n",
      "Shape: (20000, 2); RangeIndex(start=760000, stop=780000, step=1)\n",
      "Shape: (20000, 2); RangeIndex(start=780000, stop=800000, step=1)\n",
      "Shape: (20000, 2); RangeIndex(start=800000, stop=820000, step=1)\n",
      "Shape: (20000, 2); RangeIndex(start=820000, stop=840000, step=1)\n",
      "Shape: (20000, 2); RangeIndex(start=840000, stop=860000, step=1)\n",
      "Shape: (20000, 2); RangeIndex(start=860000, stop=880000, step=1)\n",
      "Shape: (20000, 2); RangeIndex(start=880000, stop=900000, step=1)\n",
      "Shape: (20000, 2); RangeIndex(start=900000, stop=920000, step=1)\n",
      "Shape: (20000, 2); RangeIndex(start=920000, stop=940000, step=1)\n",
      "Shape: (20000, 2); RangeIndex(start=940000, stop=960000, step=1)\n",
      "Shape: (20000, 2); RangeIndex(start=960000, stop=980000, step=1)\n",
      "Shape: (20000, 2); RangeIndex(start=980000, stop=1000000, step=1)\n",
      "Shape: (20000, 2); RangeIndex(start=1000000, stop=1020000, step=1)\n",
      "Shape: (20000, 2); RangeIndex(start=1020000, stop=1040000, step=1)\n",
      "Shape: (20000, 2); RangeIndex(start=1040000, stop=1060000, step=1)\n",
      "Shape: (20000, 2); RangeIndex(start=1060000, stop=1080000, step=1)\n",
      "Shape: (20000, 2); RangeIndex(start=1080000, stop=1100000, step=1)\n",
      "Shape: (20000, 2); RangeIndex(start=1100000, stop=1120000, step=1)\n",
      "Shape: (20000, 2); RangeIndex(start=1120000, stop=1140000, step=1)\n",
      "Shape: (20000, 2); RangeIndex(start=1140000, stop=1160000, step=1)\n",
      "Shape: (20000, 2); RangeIndex(start=1160000, stop=1180000, step=1)\n",
      "Shape: (20000, 2); RangeIndex(start=1180000, stop=1200000, step=1)\n",
      "Shape: (20000, 2); RangeIndex(start=1200000, stop=1220000, step=1)\n",
      "Shape: (20000, 2); RangeIndex(start=1220000, stop=1240000, step=1)\n",
      "Shape: (17493, 2); RangeIndex(start=1240000, stop=1257493, step=1)\n"
     ]
    }
   ],
   "source": [
    "def split(data, chunk_size):\n",
    "    indices = index_marks(data.shape[0], chunk_size)\n",
    "    return np.split(data, indices)"
   ]
  },
  {
   "cell_type": "code",
   "execution_count": 31,
   "metadata": {},
   "outputs": [
    {
     "name": "stdout",
     "output_type": "stream",
     "text": [
      "Shape: (20000, 2); RangeIndex(start=0, stop=20000, step=1)\n",
      "Shape: (20000, 2); RangeIndex(start=20000, stop=40000, step=1)\n",
      "Shape: (20000, 2); RangeIndex(start=40000, stop=60000, step=1)\n",
      "Shape: (20000, 2); RangeIndex(start=60000, stop=80000, step=1)\n",
      "Shape: (20000, 2); RangeIndex(start=80000, stop=100000, step=1)\n",
      "Shape: (20000, 2); RangeIndex(start=100000, stop=120000, step=1)\n",
      "Shape: (20000, 2); RangeIndex(start=120000, stop=140000, step=1)\n",
      "Shape: (20000, 2); RangeIndex(start=140000, stop=160000, step=1)\n",
      "Shape: (20000, 2); RangeIndex(start=160000, stop=180000, step=1)\n",
      "Shape: (20000, 2); RangeIndex(start=180000, stop=200000, step=1)\n",
      "Shape: (20000, 2); RangeIndex(start=200000, stop=220000, step=1)\n",
      "Shape: (20000, 2); RangeIndex(start=220000, stop=240000, step=1)\n",
      "Shape: (20000, 2); RangeIndex(start=240000, stop=260000, step=1)\n",
      "Shape: (17851, 2); RangeIndex(start=260000, stop=277851, step=1)\n"
     ]
    }
   ],
   "source": [
    "chunks = split(data, 20000)\n",
    "for c in chunks:\n",
    "    print(\"Shape: {}; {}\".format(c.shape, c.index))"
   ]
  },
  {
   "cell_type": "code",
   "execution_count": 33,
   "metadata": {},
   "outputs": [],
   "source": [
    "chunks[0].to_excel('Kalapa_1.xlsx',index = False)\n",
    "chunks[1].to_excel('Kalapa_2.xlsx',index = False)\n",
    "chunks[2].to_excel('Kalapa_3.xlsx',index = False)\n",
    "chunks[3].to_excel('Kalapa_4.xlsx',index = False)\n",
    "chunks[4].to_excel('Kalapa_5.xlsx',index = False)\n",
    "chunks[5].to_excel('Kalapa_6.xlsx',index = False)\n",
    "chunks[6].to_excel('Kalapa_7.xlsx',index = False)\n",
    "chunks[7].to_excel('Kalapa_8.xlsx',index = False)\n",
    "chunks[8].to_excel('Kalapa_9.xlsx',index = False)\n",
    "chunks[9].to_excel('Kalapa_10.xlsx',index = False)\n",
    "chunks[10].to_excel('Kalapa_11.xlsx',index = False)\n",
    "chunks[11].to_excel('Kalapa_12.xlsx',index = False)\n",
    "chunks[12].to_excel('Kalapa_13.xlsx',index = False)\n",
    "chunks[13].to_excel('Kalapa_14.xlsx',index = False)"
   ]
  },
  {
   "cell_type": "code",
   "execution_count": 34,
   "metadata": {},
   "outputs": [],
   "source": []
  },
  {
   "cell_type": "code",
   "execution_count": null,
   "metadata": {},
   "outputs": [],
   "source": []
  }
 ],
 "metadata": {
  "kernelspec": {
   "display_name": "Python 3",
   "language": "python",
   "name": "python3"
  },
  "language_info": {
   "codemirror_mode": {
    "name": "ipython",
    "version": 3
   },
   "file_extension": ".py",
   "mimetype": "text/x-python",
   "name": "python",
   "nbconvert_exporter": "python",
   "pygments_lexer": "ipython3",
   "version": "3.7.3"
  }
 },
 "nbformat": 4,
 "nbformat_minor": 2
}
